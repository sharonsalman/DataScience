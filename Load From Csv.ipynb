{
 "cells": [
  {
   "cell_type": "code",
   "execution_count": null,
   "metadata": {},
   "outputs": [],
   "source": [
    "import pandas as pd\n",
    "import numpy as np\n",
    "import matplotlib.pyplot as plt\n",
    "from matplotlib.colors import ListedColormap\n",
    "import matplotlib.patches as mpatches"
   ]
  },
  {
   "cell_type": "code",
   "execution_count": null,
   "metadata": {},
   "outputs": [],
   "source": [
    "df_before = pd.read_csv('first.csv')\n"
   ]
  },
  {
   "cell_type": "code",
   "execution_count": null,
   "metadata": {},
   "outputs": [],
   "source": [
    "df_after = df_before.replace({'-': np.nan,'No Value': np.nan}).copy()\n"
   ]
  },
  {
   "cell_type": "code",
   "execution_count": null,
   "metadata": {},
   "outputs": [],
   "source": [
    "index = df_after['Unnamed: 0'].tolist()\n",
    "df_after.drop('Unnamed: 0',inplace=True,axis = 1)\n",
    "df_after.index = index"
   ]
  },
  {
   "cell_type": "code",
   "execution_count": null,
   "metadata": {},
   "outputs": [],
   "source": [
    "prices = df_after.iloc[0,:].tolist()\n",
    "for i in range (0,108) :\n",
    "    if 0<i<12:\n",
    "        df_after.rename(columns={df_after.columns[i] : df_after.columns[i][:len(df_after.columns[i])-2] + prices[i]},inplace=True) \n",
    "    elif i%12 == 0 :\n",
    "        df_after.rename(columns={df_after.columns[i] : df_after.columns[i][:len(df_after.columns[i])] + prices[i]},inplace=True)\n",
    "    else :\n",
    "        df_after.rename(columns={df_after.columns[i] : df_after.columns[i][:len(df_after.columns[i])-2] + prices[i]},inplace=True)\n",
    "df_after = df_after.drop(df_after.index[0])"
   ]
  },
  {
   "cell_type": "code",
   "execution_count": null,
   "metadata": {},
   "outputs": [],
   "source": [
    "for col in df_after.columns:\n",
    "    df_after[col] = pd.to_numeric(df_after[col],downcast = 'float')\n",
    "    df_after[col] = df_after[col].fillna(value = round(df_after[col].mean(),1))"
   ]
  },
  {
   "cell_type": "code",
   "execution_count": null,
   "metadata": {},
   "outputs": [],
   "source": [
    "df_final = df_after.iloc[:,:72].copy()"
   ]
  },
  {
   "cell_type": "code",
   "execution_count": null,
   "metadata": {},
   "outputs": [],
   "source": []
  }
 ],
 "metadata": {
  "language_info": {
   "name": "python"
  },
  "orig_nbformat": 4
 },
 "nbformat": 4,
 "nbformat_minor": 2
}
