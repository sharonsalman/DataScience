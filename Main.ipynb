{
 "cells": [
  {
   "cell_type": "code",
   "execution_count": 57,
   "id": "b5df73ee-8f89-4990-b550-51b86b3e83af",
   "metadata": {},
   "outputs": [],
   "source": [
    "import selenium\n",
    "import pandas as pd\n",
    "import numpy as np\n",
    "import unittest\n",
    "from selenium import webdriver\n",
    "from selenium.webdriver.common.keys import Keys\n",
    "from selenium.webdriver import chrome\n",
    "from selenium.webdriver.chrome.service import Service\n",
    "from webdriver_manager.chrome import ChromeDriverManager\n",
    "from selenium.webdriver.common.by import By\n",
    "from selenium.webdriver.support.ui import WebDriverWait\n",
    "from selenium.webdriver.support import expected_conditions as EC\n",
    "import time\n",
    "import csv\n",
    "import matplotlib.pyplot as plt\n",
    "from matplotlib.colors import ListedColormap\n",
    "from sklearn.neighbors import KNeighborsRegressor\n",
    "from sklearn.metrics import accuracy_score , confusion_matrix\n",
    "from sklearn.metrics import mean_squared_error\n",
    "from sklearn.model_selection import train_test_split, cross_val_score\n",
    "from sklearn.linear_model import LinearRegression\n",
    "from sklearn.model_selection import train_test_split\n",
    "from sklearn.linear_model import LinearRegression\n",
    "from sklearn.metrics import mean_squared_error\n",
    "import re"
   ]
  },
  {
   "cell_type": "code",
   "execution_count": 58,
   "id": "e42e316d-6c72-46aa-a22b-2b6b21969db3",
   "metadata": {},
   "outputs": [],
   "source": [
    "\n",
    "def convert_text_to_number(text):\n",
    "  \"\"\"Converts a text string of a large number with commas to a number.\n",
    "\n",
    "  Args:\n",
    "    text: The text string to convert.\n",
    "\n",
    "  Returns:\n",
    "    The number represented by the text string.\n",
    "  \"\"\"\n",
    "\n",
    "  pattern = r\"^(-?\\d+)(\\,\\d+)?\"\n",
    "  match = re.match(pattern, text)\n",
    "  if match:\n",
    "    return int(match.group(1).replace(\",\", \"\"))\n",
    "  else:\n",
    "    return None"
   ]
  },
  {
   "cell_type": "code",
   "execution_count": 59,
   "id": "dbd6e679-70e6-4567-b064-77a7bf842a50",
   "metadata": {},
   "outputs": [],
   "source": [
    "# Set up the Selenium web driver\n",
    "options = webdriver.ChromeOptions()\n",
    "options.add_experimental_option(\"detach\", True)\n",
    "driver = webdriver.Chrome(options=options , service=Service(ChromeDriverManager().install()))\n"
   ]
  },
  {
   "cell_type": "code",
   "execution_count": null,
   "id": "baa9a73c-69d5-4e5a-8a14-f66c8a564b34",
   "metadata": {
    "scrolled": true
   },
   "outputs": [],
   "source": [
    "cities = [\"נהריה\", \"אילת\", \"חיפה\", \"נתניה\", \"תל אביב\",\"אשדוד\",\"אשקלון\",\"הרצליה\",\"ירושלים\",\"באר שבע\"]\n",
    "date_arr = []\n",
    "street_arr = []\n",
    "rooms_arr = []\n",
    "area_size_arr = []\n",
    "floor_arr = []\n",
    "price_arr = []\n",
    "price_per_sm_arr = []\n",
    "year_arr = []\n",
    "city_arr = []\n",
    "\n",
    "for city in cities:\n",
    "    driver.get('https://www.ad.co.il/nadlanprice?keyword=' + city)\n",
    "    \n",
    "    # Adjust the number of iterations in the range function to fetch more rows\n",
    "    for _ in range(20):  # Fetching 20 rows per city (total 10,000 rows)\n",
    "        element = driver.find_elements(By.XPATH, '//*[@id=\"cards\"]/div/table/tbody/tr')\n",
    "        for row in element:\n",
    "            date = row.find_elements(By.TAG_NAME, \"td\")[0]\n",
    "            ci = row.find_elements(By.TAG_NAME, \"td\")[1]\n",
    "            street = row.find_elements(By.TAG_NAME, \"td\")[2]\n",
    "            rooms = row.find_elements(By.TAG_NAME, \"td\")[3]\n",
    "            area_size = row.find_elements(By.TAG_NAME, \"td\")[4]\n",
    "            floor = row.find_elements(By.TAG_NAME, \"td\")[5]\n",
    "            price = row.find_elements(By.TAG_NAME, \"td\")[6]\n",
    "            price_per_sm = row.find_elements(By.TAG_NAME, \"td\")[7]\n",
    "            year = row.find_elements(By.TAG_NAME, \"td\")[8]\n",
    "\n",
    "            print(date.text, ci.text, street.text, rooms.text, area_size.text, floor.text, price.text, price_per_sm.text, year.text)\n",
    "            date_arr.append(date.text)\n",
    "            street_arr.append(street.text)\n",
    "            rooms_arr.append(convert_text_to_number(rooms.text))\n",
    "            area_size_arr.append(convert_text_to_number(area_size.text))\n",
    "            floor_arr.append(convert_text_to_number(floor.text))\n",
    "            price_arr.append(convert_text_to_number(price.text))\n",
    "            if price_per_sm:\n",
    "                price_per_sm_arr.append(price_per_sm.text)\n",
    "            else:\n",
    "                price_per_sm_arr.append(None)\n",
    "            year_arr.append(convert_text_to_number(year.text))\n",
    "            city_arr.append(city)\n",
    "    \n",
    "driver.quit()\n"
   ]
  },
  {
   "cell_type": "code",
   "execution_count": 61,
   "id": "4fdcdb54-fe8f-4322-ad28-a84447e1191c",
   "metadata": {},
   "outputs": [
    {
     "name": "stdout",
     "output_type": "stream",
     "text": [
      "           date  rooms  area_size  floor  price    year     city\n",
      "0     24/1/2021    4.0      107.0    NaN      1  2020.0    נהריה\n",
      "1     24/1/2021    4.0      107.0    1.0      1  2020.0    נהריה\n",
      "2     22/1/2021    5.0      140.0    4.0      1  2021.0    נהריה\n",
      "3     22/1/2021    3.0       65.0    NaN    600  1970.0    נהריה\n",
      "4     22/1/2021    5.0      140.0    NaN      1  2021.0    נהריה\n",
      "...         ...    ...        ...    ...    ...     ...      ...\n",
      "9815  14/1/2021    5.0      131.0    2.0      1  1995.0  באר שבע\n",
      "9816  13/1/2021    5.0      196.0    1.0      2  2002.0  באר שבע\n",
      "9817  13/1/2021    4.0       97.0    NaN    965  1993.0  באר שבע\n",
      "9818  13/1/2021    3.0       70.0    1.0    590  1991.0  באר שבע\n",
      "9819  13/1/2021    3.0       70.0    NaN    590  1991.0  באר שבע\n",
      "\n",
      "[9820 rows x 7 columns]\n"
     ]
    }
   ],
   "source": [
    "d = {'date': date_arr,\n",
    "'rooms': rooms_arr,\n",
    "'area_size': area_size_arr,\n",
    "'floor': floor_arr,\n",
    "'price': price_arr,\n",
    "'year': year_arr,\n",
    "'city': city_arr}\n",
    "\n",
    "df = pd.DataFrame(data=d)\n",
    "\n",
    "print(df)\n",
    "df.to_csv('data.csv', index=True)\n"
   ]
  }
 ],
 "metadata": {
  "kernelspec": {
   "display_name": "Python 3 (ipykernel)",
   "language": "python",
   "name": "python3"
  },
  "language_info": {
   "codemirror_mode": {
    "name": "ipython",
    "version": 3
   },
   "file_extension": ".py",
   "mimetype": "text/x-python",
   "name": "python",
   "nbconvert_exporter": "python",
   "pygments_lexer": "ipython3",
   "version": "3.9.13"
  }
 },
 "nbformat": 4,
 "nbformat_minor": 5
}
